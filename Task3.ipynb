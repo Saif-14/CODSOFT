{
  "nbformat": 4,
  "nbformat_minor": 0,
  "metadata": {
    "colab": {
      "provenance": [],
      "cell_execution_strategy": "setup",
      "authorship_tag": "ABX9TyO/Os99dJGTNofmrKRJp7sX",
      "include_colab_link": true
    },
    "kernelspec": {
      "name": "python3",
      "display_name": "Python 3"
    },
    "language_info": {
      "name": "python"
    }
  },
  "cells": [
    {
      "cell_type": "markdown",
      "metadata": {
        "id": "view-in-github",
        "colab_type": "text"
      },
      "source": [
        "<a href=\"https://colab.research.google.com/github/Saif-14/CODSOFT/blob/main/Task3.ipynb\" target=\"_parent\"><img src=\"https://colab.research.google.com/assets/colab-badge.svg\" alt=\"Open In Colab\"/></a>"
      ]
    },
    {
      "cell_type": "code",
      "source": [
        "movies = {\n",
        "    'Vincenzo': ['action', 'thriller', 'sci-fi'],\n",
        "    'True beauty': ['comedy', 'romance'],\n",
        "    'Extradinary you': ['drama', 'romance'],\n",
        "    'My name': ['action', 'adventure'],\n",
        "    'All of us are dead': ['zombie', 'thriller'],\n",
        "    'Reply 1988': ['comedy', 'drama'],\n",
        "    'Goblin': ['adventure', 'fantasy'],\n",
        "    'Squid game': ['sci-fi', 'adventure'],\n",
        "\n",
        "}\n",
        "\n",
        "def calculate_overlap(user_input, movie_features):\n",
        "\n",
        "    return len(set(movie_features) & set(user_input.split()))\n",
        "\n",
        "def recommend_movie(user_input, movies_data):\n",
        "\n",
        "    best_match = None\n",
        "    max_overlap = 0\n",
        "\n",
        "    for movie, features in movies_data.items():\n",
        "        overlap = calculate_overlap(user_input, features)\n",
        "        if overlap > max_overlap:\n",
        "            max_overlap = overlap\n",
        "            best_match = movie\n",
        "\n",
        "    return best_match\n",
        "\n",
        "user_input = input(\"Enter your favorite genre: \")\n",
        "\n",
        "# Get the recommended movie\n",
        "recommended_movie = recommend_movie(user_input, movies)\n",
        "\n",
        "if recommended_movie:\n",
        "    print(f\"Recommended movie for you: {recommended_movie}\")\n",
        "else:\n",
        "    print(\"Sorry, no recommendations found.\")"
      ],
      "metadata": {
        "colab": {
          "base_uri": "https://localhost:8080/"
        },
        "id": "LxT63uMAl5di",
        "outputId": "8b31419f-aa8b-42ef-f26a-6d33f2494c52"
      },
      "execution_count": 4,
      "outputs": [
        {
          "output_type": "stream",
          "name": "stdout",
          "text": [
            "Enter your favorite genre: fantasy\n",
            "Recommended movie for you: Goblin\n"
          ]
        }
      ]
    }
  ]
}