{
  "cells": [
    {
      "cell_type": "markdown",
      "metadata": {
        "id": "view-in-github",
        "colab_type": "text"
      },
      "source": [
        "<a href=\"https://colab.research.google.com/github/Saif-14/CODSOFT/blob/main/Task1.ipynb\" target=\"_parent\"><img src=\"https://colab.research.google.com/assets/colab-badge.svg\" alt=\"Open In Colab\"/></a>"
      ]
    },
    {
      "cell_type": "code",
      "execution_count": 1,
      "metadata": {
        "colab": {
          "base_uri": "https://localhost:8080/"
        },
        "id": "65cNdqXjS44H",
        "outputId": "39fcf7e0-146f-4a67-ef12-699499aec005"
      },
      "outputs": [
        {
          "output_type": "stream",
          "name": "stdout",
          "text": [
            "Hello! I am a simple chatbot. How can I help you today?\n",
            "You: Hi\n",
            "Chatbot: Hello! How can I assist you today?\n",
            "You: hi\n",
            "Chatbot: Hello! How can I assist you today?\n",
            "You: how are you\n",
            "Chatbot: I'm just a bunch of code, but I'm functioning as expected! How are you?\n",
            "You: weather\n",
            "Chatbot: I can't provide real-time weather updates yet, but you can check your local weather forecast online.\n",
            "You: time\n",
            "Chatbot: I don't have a clock, but you can check the time on your device.\n",
            "You: date\n",
            "Chatbot: I'm sorry, I don't understand that. Can you ask something else?\n",
            "You: bye\n",
            "Chatbot: Goodbye! Have a great day!\n"
          ]
        }
      ],
      "source": [
        "import re\n",
        "\n",
        "def chatbot():\n",
        "    print(\"Hello! I am a simple chatbot. How can I help you today?\")\n",
        "\n",
        "    while True:\n",
        "        user_input = input(\"You: \").lower()\n",
        "\n",
        "        if re.search(r\"\\bhello\\b|\\bhi\\b\", user_input):\n",
        "            response = \"Hello! How can I assist you today?\"\n",
        "        elif re.search(r\"\\bhow are you\\b\", user_input):\n",
        "            response = \"I'm just a bunch of code, but I'm functioning as expected! How are you?\"\n",
        "        elif re.search(r\"\\bwhat is your name\\b\", user_input):\n",
        "            response = \"I am a simple chatbot created to help you with basic queries.\"\n",
        "        elif re.search(r\"\\bhelp\\b\", user_input):\n",
        "            response = \"Sure, I'm here to help! You can ask me about the weather, time, or general questions.\"\n",
        "        elif re.search(r\"\\bweather\\b\", user_input):\n",
        "            response = \"I can't provide real-time weather updates yet, but you can check your local weather forecast online.\"\n",
        "        elif re.search(r\"\\btime\\b\", user_input):\n",
        "            response = \"I don't have a clock, but you can check the time on your device.\"\n",
        "        elif re.search(r\"\\bbye\\b|\\bexit\\b\", user_input):\n",
        "            response = \"Goodbye! Have a great day!\"\n",
        "            print(\"Chatbot: \" + response)\n",
        "            break\n",
        "        else:\n",
        "            response = \"I'm sorry, I don't understand that. Can you ask something else?\"\n",
        "\n",
        "        print(\"Chatbot: \" + response)\n",
        "\n",
        "# Run the chatbot\n",
        "chatbot()\n"
      ]
    }
  ],
  "metadata": {
    "colab": {
      "provenance": [],
      "authorship_tag": "ABX9TyN5bTeosC3/bmQCdFUz3ezK",
      "include_colab_link": true
    },
    "kernelspec": {
      "display_name": "Python 3",
      "name": "python3"
    },
    "language_info": {
      "name": "python"
    }
  },
  "nbformat": 4,
  "nbformat_minor": 0
}