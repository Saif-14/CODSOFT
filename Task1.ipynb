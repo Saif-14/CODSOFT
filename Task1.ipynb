{
  "cells": [
    {
      "cell_type": "markdown",
      "metadata": {
        "id": "view-in-github",
        "colab_type": "text"
      },
      "source": [
        "<a href=\"https://colab.research.google.com/github/Saif-14/CODSOFT/blob/main/Task1.ipynb\" target=\"_parent\"><img src=\"https://colab.research.google.com/assets/colab-badge.svg\" alt=\"Open In Colab\"/></a>"
      ]
    },
    {
      "cell_type": "code",
      "execution_count": 1,
      "metadata": {
        "colab": {
          "base_uri": "https://localhost:8080/"
        },
        "id": "65cNdqXjS44H",
        "outputId": "39fcf7e0-146f-4a67-ef12-699499aec005"
      },
      "outputs": [
        {
          "output_type": "stream",
          "name": "stdout",
          "text": [
            "Hello! I am a simple chatbot. How can I help you today?\n",
            "You: Hi\n",
            "Chatbot: Hello! How can I assist you today?\n",
            "You: hi\n",
            "Chatbot: Hello! How can I assist you today?\n",
            "You: how are you\n",
            "Chatbot: I'm just a bunch of code, but I'm functioning as expected! How are you?\n",
            "You: weather\n",
            "Chatbot: I can't provide real-time weather updates yet, but you can check your local weather forecast online.\n",
            "You: time\n",
            "Chatbot: I don't have a clock, but you can check the time on your device.\n",
            "You: date\n",
            "Chatbot: I'm sorry, I don't understand that. Can you ask something else?\n",
            "You: bye\n",
            "Chatbot: Goodbye! Have a great day!\n"
          ]
        }
      ],
      "source": [
        "import re\n",
        "\n",
        "def chatbot():\n",
        "    print(\"Hello! I am a simple chatbot. How can I help you today?\")\n",
        "\n",
        "    while True:\n",
        "        user_input = input(\"You: \").lower()\n",
        "\n",
        "        if re.search(r\"\\bhello\\b|\\bhi\\b\", user_input):\n",
        "            response = \"Hello! How can I assist you today?\"\n",
        "        elif re.search(r\"\\bhow are you\\b\", user_input):\n",
        "            response = \"I'm just a bunch of code, but I'm functioning as expected! How are you?\"\n",
        "        elif re.search(r\"\\bwhat is your name\\b\", user_input):\n",
        "            response = \"I am a simple chatbot created to help you with basic queries.\"\n",
        "        elif re.search(r\"\\bhelp\\b\", user_input):\n",
        "            response = \"Sure, I'm here to help! You can ask me about the weather, time, or general questions.\"\n",
        "        elif re.search(r\"\\bweather\\b\", user_input):\n",
        "            response = \"I can't provide real-time weather updates yet, but you can check your local weather forecast online.\"\n",
        "        elif re.search(r\"\\btime\\b\", user_input):\n",
        "            response = \"I don't have a clock, but you can check the time on your device.\"\n",
        "        elif re.search(r\"\\bbye\\b|\\bexit\\b\", user_input):\n",
        "            response = \"Goodbye! Have a great day!\"\n",
        "            print(\"Chatbot: \" + response)\n",
        "            break\n",
        "        else:\n",
        "            response = \"I'm sorry, I don't understand that. Can you ask something else?\"\n",
        "\n",
        "        print(\"Chatbot: \" + response)\n",
        "\n",
        "\n",
        "chatbot()\n"
      ]
    },
    {
      "cell_type": "code",
      "source": [
        "import math\n",
        "\n",
        "# Initialize the board\n",
        "def initialize_board():\n",
        "    return [' ' for _ in range(9)]\n",
        "\n",
        "# Print the board\n",
        "def print_board(board):\n",
        "    for row in range(3):\n",
        "        print('|'.join(board[row*3:(row+1)*3]))\n",
        "        if row < 2:\n",
        "            print('-----')\n",
        "\n",
        "# Check if the board is full\n",
        "def is_board_full(board):\n",
        "    return ' ' not in board\n",
        "\n",
        "# Check for a win\n",
        "def check_win(board, player):\n",
        "    win_conditions = [(0, 1, 2), (3, 4, 5), (6, 7, 8),\n",
        "                      (0, 3, 6), (1, 4, 7), (2, 5, 8),\n",
        "                      (0, 4, 8), (2, 4, 6)]\n",
        "    for condition in win_conditions:\n",
        "        if board[condition[0]] == board[condition[1]] == board[condition[2]] == player:\n",
        "            return True\n",
        "    return False\n",
        "\n",
        "# Get valid moves\n",
        "def get_valid_moves(board):\n",
        "    return [i for i, spot in enumerate(board) if spot == ' ']\n",
        "\n",
        "# Minimax algorithm with Alpha-Beta Pruning\n",
        "def minimax(board, depth, is_maximizing, alpha, beta):\n",
        "    if check_win(board, 'X'):\n",
        "        return -1\n",
        "    if check_win(board, 'O'):\n",
        "        return 1\n",
        "    if is_board_full(board):\n",
        "        return 0\n",
        "\n",
        "    if is_maximizing:\n",
        "        max_eval = -math.inf\n",
        "        for move in get_valid_moves(board):\n",
        "            board[move] = 'O'\n",
        "            eval = minimax(board, depth + 1, False, alpha, beta)\n",
        "            board[move] = ' '\n",
        "            max_eval = max(max_eval, eval)\n",
        "            alpha = max(alpha, eval)\n",
        "            if beta <= alpha:\n",
        "                break\n",
        "        return max_eval\n",
        "    else:\n",
        "        min_eval = math.inf\n",
        "        for move in get_valid_moves(board):\n",
        "            board[move] = 'X'\n",
        "            eval = minimax(board, depth + 1, True, alpha, beta)\n",
        "            board[move] = ' '\n",
        "            min_eval = min(min_eval, eval)\n",
        "            beta = min(beta, eval)\n",
        "            if beta <= alpha:\n",
        "                break\n",
        "        return min_eval\n",
        "\n",
        "# Get the best move for the AI\n",
        "def get_best_move(board):\n",
        "    best_move = None\n",
        "    best_value = -math.inf\n",
        "    for move in get_valid_moves(board):\n",
        "        board[move] = 'O'\n",
        "        move_value = minimax(board, 0, False, -math.inf, math.inf)\n",
        "        board[move] = ' '\n",
        "        if move_value > best_value:\n",
        "            best_value = move_value\n",
        "            best_move = move\n",
        "    return best_move\n",
        "\n",
        "# Main game loop\n",
        "def play_game():\n",
        "    board = initialize_board()\n",
        "    current_player = 'X'  # Human starts first\n",
        "\n",
        "    while True:\n",
        "        print_board(board)\n",
        "        if current_player == 'X':\n",
        "            # Human move\n",
        "            move = int(input(\"Enter your move (0-8): \"))\n",
        "            if board[move] == ' ':\n",
        "                board[move] = 'X'\n",
        "                if check_win(board, 'X'):\n",
        "                    print_board(board)\n",
        "                    print(\"You win!\")\n",
        "                    break\n",
        "                current_player = 'O'\n",
        "            else:\n",
        "                print(\"Invalid move. Try again.\")\n",
        "        else:\n",
        "            # AI move\n",
        "            move = get_best_move(board)\n",
        "            board[move] = 'O'\n",
        "            if check_win(board, 'O'):\n",
        "                print_board(board)\n",
        "                print(\"AI wins!\")\n",
        "                break\n",
        "            current_player = 'X'\n",
        "\n",
        "        if is_board_full(board):\n",
        "            print_board(board)\n",
        "            print(\"It's a draw!\")\n",
        "            break\n",
        "\n",
        "# Run the game\n",
        "play_game()\n"
      ],
      "metadata": {
        "colab": {
          "base_uri": "https://localhost:8080/",
          "height": 408
        },
        "id": "w89z_zMryd4W",
        "outputId": "3fe312f7-1d60-4e59-c923-f94a319ff765"
      },
      "execution_count": 3,
      "outputs": [
        {
          "output_type": "stream",
          "name": "stdout",
          "text": [
            " | | \n",
            "-----\n",
            " | | \n",
            "-----\n",
            " | | \n"
          ]
        },
        {
          "output_type": "error",
          "ename": "KeyboardInterrupt",
          "evalue": "Interrupted by user",
          "traceback": [
            "\u001b[0;31m---------------------------------------------------------------------------\u001b[0m",
            "\u001b[0;31mKeyboardInterrupt\u001b[0m                         Traceback (most recent call last)",
            "\u001b[0;32m<ipython-input-3-f9a39bb701f6>\u001b[0m in \u001b[0;36m<cell line: 112>\u001b[0;34m()\u001b[0m\n\u001b[1;32m    110\u001b[0m \u001b[0;34m\u001b[0m\u001b[0m\n\u001b[1;32m    111\u001b[0m \u001b[0;31m# Run the game\u001b[0m\u001b[0;34m\u001b[0m\u001b[0;34m\u001b[0m\u001b[0m\n\u001b[0;32m--> 112\u001b[0;31m \u001b[0mplay_game\u001b[0m\u001b[0;34m(\u001b[0m\u001b[0;34m)\u001b[0m\u001b[0;34m\u001b[0m\u001b[0;34m\u001b[0m\u001b[0m\n\u001b[0m",
            "\u001b[0;32m<ipython-input-3-f9a39bb701f6>\u001b[0m in \u001b[0;36mplay_game\u001b[0;34m()\u001b[0m\n\u001b[1;32m     84\u001b[0m         \u001b[0;32mif\u001b[0m \u001b[0mcurrent_player\u001b[0m \u001b[0;34m==\u001b[0m \u001b[0;34m'X'\u001b[0m\u001b[0;34m:\u001b[0m\u001b[0;34m\u001b[0m\u001b[0;34m\u001b[0m\u001b[0m\n\u001b[1;32m     85\u001b[0m             \u001b[0;31m# Human move\u001b[0m\u001b[0;34m\u001b[0m\u001b[0;34m\u001b[0m\u001b[0m\n\u001b[0;32m---> 86\u001b[0;31m             \u001b[0mmove\u001b[0m \u001b[0;34m=\u001b[0m \u001b[0mint\u001b[0m\u001b[0;34m(\u001b[0m\u001b[0minput\u001b[0m\u001b[0;34m(\u001b[0m\u001b[0;34m\"Enter your move (0-8): \"\u001b[0m\u001b[0;34m)\u001b[0m\u001b[0;34m)\u001b[0m\u001b[0;34m\u001b[0m\u001b[0;34m\u001b[0m\u001b[0m\n\u001b[0m\u001b[1;32m     87\u001b[0m             \u001b[0;32mif\u001b[0m \u001b[0mboard\u001b[0m\u001b[0;34m[\u001b[0m\u001b[0mmove\u001b[0m\u001b[0;34m]\u001b[0m \u001b[0;34m==\u001b[0m \u001b[0;34m' '\u001b[0m\u001b[0;34m:\u001b[0m\u001b[0;34m\u001b[0m\u001b[0;34m\u001b[0m\u001b[0m\n\u001b[1;32m     88\u001b[0m                 \u001b[0mboard\u001b[0m\u001b[0;34m[\u001b[0m\u001b[0mmove\u001b[0m\u001b[0;34m]\u001b[0m \u001b[0;34m=\u001b[0m \u001b[0;34m'X'\u001b[0m\u001b[0;34m\u001b[0m\u001b[0;34m\u001b[0m\u001b[0m\n",
            "\u001b[0;32m/usr/local/lib/python3.10/dist-packages/ipykernel/kernelbase.py\u001b[0m in \u001b[0;36mraw_input\u001b[0;34m(self, prompt)\u001b[0m\n\u001b[1;32m    849\u001b[0m                 \u001b[0;34m\"raw_input was called, but this frontend does not support input requests.\"\u001b[0m\u001b[0;34m\u001b[0m\u001b[0;34m\u001b[0m\u001b[0m\n\u001b[1;32m    850\u001b[0m             )\n\u001b[0;32m--> 851\u001b[0;31m         return self._input_request(str(prompt),\n\u001b[0m\u001b[1;32m    852\u001b[0m             \u001b[0mself\u001b[0m\u001b[0;34m.\u001b[0m\u001b[0m_parent_ident\u001b[0m\u001b[0;34m,\u001b[0m\u001b[0;34m\u001b[0m\u001b[0;34m\u001b[0m\u001b[0m\n\u001b[1;32m    853\u001b[0m             \u001b[0mself\u001b[0m\u001b[0;34m.\u001b[0m\u001b[0m_parent_header\u001b[0m\u001b[0;34m,\u001b[0m\u001b[0;34m\u001b[0m\u001b[0;34m\u001b[0m\u001b[0m\n",
            "\u001b[0;32m/usr/local/lib/python3.10/dist-packages/ipykernel/kernelbase.py\u001b[0m in \u001b[0;36m_input_request\u001b[0;34m(self, prompt, ident, parent, password)\u001b[0m\n\u001b[1;32m    893\u001b[0m             \u001b[0;32mexcept\u001b[0m \u001b[0mKeyboardInterrupt\u001b[0m\u001b[0;34m:\u001b[0m\u001b[0;34m\u001b[0m\u001b[0;34m\u001b[0m\u001b[0m\n\u001b[1;32m    894\u001b[0m                 \u001b[0;31m# re-raise KeyboardInterrupt, to truncate traceback\u001b[0m\u001b[0;34m\u001b[0m\u001b[0;34m\u001b[0m\u001b[0m\n\u001b[0;32m--> 895\u001b[0;31m                 \u001b[0;32mraise\u001b[0m \u001b[0mKeyboardInterrupt\u001b[0m\u001b[0;34m(\u001b[0m\u001b[0;34m\"Interrupted by user\"\u001b[0m\u001b[0;34m)\u001b[0m \u001b[0;32mfrom\u001b[0m \u001b[0;32mNone\u001b[0m\u001b[0;34m\u001b[0m\u001b[0;34m\u001b[0m\u001b[0m\n\u001b[0m\u001b[1;32m    896\u001b[0m             \u001b[0;32mexcept\u001b[0m \u001b[0mException\u001b[0m \u001b[0;32mas\u001b[0m \u001b[0me\u001b[0m\u001b[0;34m:\u001b[0m\u001b[0;34m\u001b[0m\u001b[0;34m\u001b[0m\u001b[0m\n\u001b[1;32m    897\u001b[0m                 \u001b[0mself\u001b[0m\u001b[0;34m.\u001b[0m\u001b[0mlog\u001b[0m\u001b[0;34m.\u001b[0m\u001b[0mwarning\u001b[0m\u001b[0;34m(\u001b[0m\u001b[0;34m\"Invalid Message:\"\u001b[0m\u001b[0;34m,\u001b[0m \u001b[0mexc_info\u001b[0m\u001b[0;34m=\u001b[0m\u001b[0;32mTrue\u001b[0m\u001b[0;34m)\u001b[0m\u001b[0;34m\u001b[0m\u001b[0;34m\u001b[0m\u001b[0m\n",
            "\u001b[0;31mKeyboardInterrupt\u001b[0m: Interrupted by user"
          ]
        }
      ]
    }
  ],
  "metadata": {
    "colab": {
      "provenance": [],
      "authorship_tag": "ABX9TyOqGOppLAF4r9x810UqPNz1",
      "include_colab_link": true
    },
    "kernelspec": {
      "display_name": "Python 3",
      "name": "python3"
    },
    "language_info": {
      "name": "python"
    }
  },
  "nbformat": 4,
  "nbformat_minor": 0
}